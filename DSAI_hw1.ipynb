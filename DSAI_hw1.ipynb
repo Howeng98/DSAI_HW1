{
  "nbformat": 4,
  "nbformat_minor": 0,
  "metadata": {
    "colab": {
      "name": "DSAI_hw1.ipynb",
      "provenance": [],
      "collapsed_sections": []
    },
    "kernelspec": {
      "name": "python3",
      "display_name": "Python 3"
    },
    "accelerator": "GPU"
  },
  "cells": [
    {
      "cell_type": "code",
      "metadata": {
        "colab": {
          "base_uri": "https://localhost:8080/"
        },
        "id": "7y_bG-m6nYK2",
        "outputId": "5e75bae0-1d5f-4d65-fc1b-d2fa5c2abf29"
      },
      "source": [
        "!nvidia-smi"
      ],
      "execution_count": 1,
      "outputs": [
        {
          "output_type": "stream",
          "text": [
            "Tue Mar  9 07:26:13 2021       \n",
            "+-----------------------------------------------------------------------------+\n",
            "| NVIDIA-SMI 460.56       Driver Version: 460.32.03    CUDA Version: 11.2     |\n",
            "|-------------------------------+----------------------+----------------------+\n",
            "| GPU  Name        Persistence-M| Bus-Id        Disp.A | Volatile Uncorr. ECC |\n",
            "| Fan  Temp  Perf  Pwr:Usage/Cap|         Memory-Usage | GPU-Util  Compute M. |\n",
            "|                               |                      |               MIG M. |\n",
            "|===============================+======================+======================|\n",
            "|   0  Tesla K80           Off  | 00000000:00:04.0 Off |                    0 |\n",
            "| N/A   36C    P8    27W / 149W |      0MiB / 11441MiB |      0%      Default |\n",
            "|                               |                      |                  N/A |\n",
            "+-------------------------------+----------------------+----------------------+\n",
            "                                                                               \n",
            "+-----------------------------------------------------------------------------+\n",
            "| Processes:                                                                  |\n",
            "|  GPU   GI   CI        PID   Type   Process name                  GPU Memory |\n",
            "|        ID   ID                                                   Usage      |\n",
            "|=============================================================================|\n",
            "|  No running processes found                                                 |\n",
            "+-----------------------------------------------------------------------------+\n"
          ],
          "name": "stdout"
        }
      ]
    },
    {
      "cell_type": "code",
      "metadata": {
        "id": "JixDr4xbstGK"
      },
      "source": [
        "import os\n",
        "from google.colab import drive\n",
        "import numpy as np\n",
        "import pandas as pd\n",
        "import matplotlib.pyplot as plt\n",
        "from xgboost import XGBClassifier\n",
        "from sklearn.model_selection import train_test_split"
      ],
      "execution_count": 5,
      "outputs": []
    },
    {
      "cell_type": "code",
      "metadata": {
        "colab": {
          "base_uri": "https://localhost:8080/"
        },
        "id": "Q0Jj8W36sm9r",
        "outputId": "0d7726ff-94e2-436d-a32f-ef11d9be1322"
      },
      "source": [
        "drive.mount('/content/gdrive')"
      ],
      "execution_count": 6,
      "outputs": [
        {
          "output_type": "stream",
          "text": [
            "Mounted at /content/gdrive\n"
          ],
          "name": "stdout"
        }
      ]
    },
    {
      "cell_type": "code",
      "metadata": {
        "colab": {
          "base_uri": "https://localhost:8080/"
        },
        "id": "B5k6BIF5niy2",
        "outputId": "10bf02b9-d8da-48c1-db9e-1f9060c053f8"
      },
      "source": [
        "main_path = 'gdrive/My Drive/Colab Notebooks/DSAI_hw1'\n",
        "print(os.listdir(main_path))"
      ],
      "execution_count": 7,
      "outputs": [
        {
          "output_type": "stream",
          "text": [
            "['本年度每日尖峰備轉容量率.csv', '台灣電力公司_過去電力供需資訊.csv']\n"
          ],
          "name": "stdout"
        }
      ]
    },
    {
      "cell_type": "code",
      "metadata": {
        "colab": {
          "base_uri": "https://localhost:8080/"
        },
        "id": "VNCyojNh6P79",
        "outputId": "cef19bb5-3ad2-4c26-974e-e73552b469c8"
      },
      "source": [
        "train_df = pd.read_csv(os.path.join(main_path,'台灣電力公司_過去電力供需資訊.csv'))\n",
        "\n",
        "label_df = train_df['備轉容量(MW)']\n",
        "\n",
        "# label_df.drop(train_df.iloc[:, 0:1], inplace = True, axis = 1)\n",
        "train_df.drop(train_df.iloc[:, 3:5], inplace = True, axis = 1)\n",
        "train_df.drop(['核一#1(萬瓩)'], inplace = True, axis = 1)\n",
        "train_df.drop(['核一#2(萬瓩)'], inplace = True, axis = 1)\n",
        "train_df.drop(train_df.iloc[:, 5:-3], inplace = True, axis = 1)\n",
        "print(train_df.columns)"
      ],
      "execution_count": 66,
      "outputs": [
        {
          "output_type": "stream",
          "text": [
            "Index(['日期', '淨尖峰供電能力(MW)', '尖峰負載(MW)', '工業用電(百萬度)', '民生用電(百萬度)', '其他小水力',\n",
            "       '風力發電', '太陽能發電'],\n",
            "      dtype='object')\n"
          ],
          "name": "stdout"
        }
      ]
    },
    {
      "cell_type": "code",
      "metadata": {
        "colab": {
          "base_uri": "https://localhost:8080/",
          "height": 359
        },
        "id": "CCd_nr_tF6Rb",
        "outputId": "e3ec91c9-b6cf-42ad-f352-eb2b9c7283e4"
      },
      "source": [
        "train_df.head(10)"
      ],
      "execution_count": 67,
      "outputs": [
        {
          "output_type": "execute_result",
          "data": {
            "text/html": [
              "<div>\n",
              "<style scoped>\n",
              "    .dataframe tbody tr th:only-of-type {\n",
              "        vertical-align: middle;\n",
              "    }\n",
              "\n",
              "    .dataframe tbody tr th {\n",
              "        vertical-align: top;\n",
              "    }\n",
              "\n",
              "    .dataframe thead th {\n",
              "        text-align: right;\n",
              "    }\n",
              "</style>\n",
              "<table border=\"1\" class=\"dataframe\">\n",
              "  <thead>\n",
              "    <tr style=\"text-align: right;\">\n",
              "      <th></th>\n",
              "      <th>日期</th>\n",
              "      <th>淨尖峰供電能力(MW)</th>\n",
              "      <th>尖峰負載(MW)</th>\n",
              "      <th>工業用電(百萬度)</th>\n",
              "      <th>民生用電(百萬度)</th>\n",
              "      <th>其他小水力</th>\n",
              "      <th>風力發電</th>\n",
              "      <th>太陽能發電</th>\n",
              "    </tr>\n",
              "  </thead>\n",
              "  <tbody>\n",
              "    <tr>\n",
              "      <th>0</th>\n",
              "      <td>20200101</td>\n",
              "      <td>28125</td>\n",
              "      <td>25335</td>\n",
              "      <td>301.704</td>\n",
              "      <td>206.750</td>\n",
              "      <td>13.3</td>\n",
              "      <td>20.4</td>\n",
              "      <td>0.0</td>\n",
              "    </tr>\n",
              "    <tr>\n",
              "      <th>1</th>\n",
              "      <td>20200102</td>\n",
              "      <td>31303</td>\n",
              "      <td>28223</td>\n",
              "      <td>330.461</td>\n",
              "      <td>226.457</td>\n",
              "      <td>20.8</td>\n",
              "      <td>7.5</td>\n",
              "      <td>0.0</td>\n",
              "    </tr>\n",
              "    <tr>\n",
              "      <th>2</th>\n",
              "      <td>20200103</td>\n",
              "      <td>31676</td>\n",
              "      <td>28292</td>\n",
              "      <td>335.832</td>\n",
              "      <td>230.138</td>\n",
              "      <td>19.8</td>\n",
              "      <td>12.5</td>\n",
              "      <td>0.0</td>\n",
              "    </tr>\n",
              "    <tr>\n",
              "      <th>3</th>\n",
              "      <td>20200104</td>\n",
              "      <td>29219</td>\n",
              "      <td>25583</td>\n",
              "      <td>312.093</td>\n",
              "      <td>213.870</td>\n",
              "      <td>20.5</td>\n",
              "      <td>10.8</td>\n",
              "      <td>0.0</td>\n",
              "    </tr>\n",
              "    <tr>\n",
              "      <th>4</th>\n",
              "      <td>20200105</td>\n",
              "      <td>27456</td>\n",
              "      <td>24761</td>\n",
              "      <td>295.308</td>\n",
              "      <td>202.368</td>\n",
              "      <td>18.2</td>\n",
              "      <td>3.1</td>\n",
              "      <td>0.0</td>\n",
              "    </tr>\n",
              "    <tr>\n",
              "      <th>5</th>\n",
              "      <td>20200106</td>\n",
              "      <td>31653</td>\n",
              "      <td>28644</td>\n",
              "      <td>332.374</td>\n",
              "      <td>227.768</td>\n",
              "      <td>20.5</td>\n",
              "      <td>1.9</td>\n",
              "      <td>0.3</td>\n",
              "    </tr>\n",
              "    <tr>\n",
              "      <th>6</th>\n",
              "      <td>20200107</td>\n",
              "      <td>32248</td>\n",
              "      <td>29144</td>\n",
              "      <td>343.528</td>\n",
              "      <td>235.411</td>\n",
              "      <td>21.1</td>\n",
              "      <td>1.7</td>\n",
              "      <td>0.0</td>\n",
              "    </tr>\n",
              "    <tr>\n",
              "      <th>7</th>\n",
              "      <td>20200108</td>\n",
              "      <td>31779</td>\n",
              "      <td>28544</td>\n",
              "      <td>340.649</td>\n",
              "      <td>233.438</td>\n",
              "      <td>20.1</td>\n",
              "      <td>59.8</td>\n",
              "      <td>0.0</td>\n",
              "    </tr>\n",
              "    <tr>\n",
              "      <th>8</th>\n",
              "      <td>20200109</td>\n",
              "      <td>31861</td>\n",
              "      <td>28730</td>\n",
              "      <td>340.817</td>\n",
              "      <td>233.553</td>\n",
              "      <td>19.6</td>\n",
              "      <td>33.7</td>\n",
              "      <td>0.0</td>\n",
              "    </tr>\n",
              "    <tr>\n",
              "      <th>9</th>\n",
              "      <td>20200110</td>\n",
              "      <td>31774</td>\n",
              "      <td>28476</td>\n",
              "      <td>341.671</td>\n",
              "      <td>234.138</td>\n",
              "      <td>7.4</td>\n",
              "      <td>13.0</td>\n",
              "      <td>37.2</td>\n",
              "    </tr>\n",
              "  </tbody>\n",
              "</table>\n",
              "</div>"
            ],
            "text/plain": [
              "         日期  淨尖峰供電能力(MW)  尖峰負載(MW)  工業用電(百萬度)  民生用電(百萬度)  其他小水力  風力發電  太陽能發電\n",
              "0  20200101        28125     25335    301.704    206.750   13.3  20.4    0.0\n",
              "1  20200102        31303     28223    330.461    226.457   20.8   7.5    0.0\n",
              "2  20200103        31676     28292    335.832    230.138   19.8  12.5    0.0\n",
              "3  20200104        29219     25583    312.093    213.870   20.5  10.8    0.0\n",
              "4  20200105        27456     24761    295.308    202.368   18.2   3.1    0.0\n",
              "5  20200106        31653     28644    332.374    227.768   20.5   1.9    0.3\n",
              "6  20200107        32248     29144    343.528    235.411   21.1   1.7    0.0\n",
              "7  20200108        31779     28544    340.649    233.438   20.1  59.8    0.0\n",
              "8  20200109        31861     28730    340.817    233.553   19.6  33.7    0.0\n",
              "9  20200110        31774     28476    341.671    234.138    7.4  13.0   37.2"
            ]
          },
          "metadata": {
            "tags": []
          },
          "execution_count": 67
        }
      ]
    },
    {
      "cell_type": "code",
      "metadata": {
        "colab": {
          "base_uri": "https://localhost:8080/"
        },
        "id": "iTYyESXPZM-d",
        "outputId": "509311f1-0f70-42ff-ed2a-966d51f9b8a9"
      },
      "source": [
        "label_df.head(10)"
      ],
      "execution_count": 68,
      "outputs": [
        {
          "output_type": "execute_result",
          "data": {
            "text/plain": [
              "0    2790\n",
              "1    3080\n",
              "2    3384\n",
              "3    3636\n",
              "4    2695\n",
              "5    3009\n",
              "6    3104\n",
              "7    3235\n",
              "8    3131\n",
              "9    3298\n",
              "Name: 備轉容量(MW), dtype: int64"
            ]
          },
          "metadata": {
            "tags": []
          },
          "execution_count": 68
        }
      ]
    },
    {
      "cell_type": "code",
      "metadata": {
        "id": "xtYOuQrR21S0"
      },
      "source": [
        "x_train, x_test, y_train, y_test = train_test_split(train_df, label_df, test_size=0.2, random_state=42)\n",
        "# print(len(x_train))\n",
        "# print(len(y_train))\n",
        "# print(len(x_test))\n",
        "# print(len(y_test))"
      ],
      "execution_count": 69,
      "outputs": []
    },
    {
      "cell_type": "code",
      "metadata": {
        "colab": {
          "base_uri": "https://localhost:8080/"
        },
        "id": "k5uRUT-UZgHw",
        "outputId": "b22973c2-fc53-48b4-98ca-9b5b3b365733"
      },
      "source": [
        "xgb = XGBClassifier()\n",
        "xgb.fit(x_train, y_train)"
      ],
      "execution_count": 70,
      "outputs": [
        {
          "output_type": "execute_result",
          "data": {
            "text/plain": [
              "XGBClassifier(base_score=0.5, booster='gbtree', colsample_bylevel=1,\n",
              "              colsample_bynode=1, colsample_bytree=1, gamma=0,\n",
              "              learning_rate=0.1, max_delta_step=0, max_depth=3,\n",
              "              min_child_weight=1, missing=None, n_estimators=100, n_jobs=1,\n",
              "              nthread=None, objective='multi:softprob', random_state=0,\n",
              "              reg_alpha=0, reg_lambda=1, scale_pos_weight=1, seed=None,\n",
              "              silent=None, subsample=1, verbosity=1)"
            ]
          },
          "metadata": {
            "tags": []
          },
          "execution_count": 70
        }
      ]
    },
    {
      "cell_type": "code",
      "metadata": {
        "id": "hFMQgSZravTi"
      },
      "source": [
        "test_date = [[20210323],[20210324],[20210325],[20210326],[20210327],[20210328],[20210329]]\n",
        "test_df = pd.DataFrame(test_date, columns=['日期'])"
      ],
      "execution_count": 71,
      "outputs": []
    },
    {
      "cell_type": "code",
      "metadata": {
        "colab": {
          "base_uri": "https://localhost:8080/"
        },
        "id": "BvgA3fng31n3",
        "outputId": "d32261d1-1b02-4886-e5ac-1cdc886f82c2"
      },
      "source": [
        "print(x_test.head(10))"
      ],
      "execution_count": 72,
      "outputs": [
        {
          "output_type": "stream",
          "text": [
            "           日期  淨尖峰供電能力(MW)  尖峰負載(MW)  工業用電(百萬度)  民生用電(百萬度)  其他小水力  風力發電  太陽能發電\n",
            "114  20200424        31626     27678    339.469    230.174    7.0  28.0   30.5\n",
            "278  20201005        37047     32508    369.536    315.444   14.5  63.2  160.8\n",
            "237  20200825        40885     37073    380.910    350.284   21.4  36.6  202.4\n",
            "57   20200227        32621     28368    348.469    245.178   21.2  60.3    0.0\n",
            "72   20200313        32263     29165    353.107    237.444    7.3   6.8   43.4\n",
            "354  20201220        29274     25658    313.192    201.771   17.1  61.7    0.0\n",
            "73   20200314        29628     25802    320.592    215.579   17.7  55.0    0.4\n",
            "157  20200606        34992     30752    328.179    268.824   20.4  49.6  166.6\n",
            "153  20200602        38452     34381    350.639    287.222   24.5  19.3  212.7\n",
            "358  20201224        33402     29857    362.992    233.854   16.8  59.0    4.2\n"
          ],
          "name": "stdout"
        }
      ]
    },
    {
      "cell_type": "code",
      "metadata": {
        "colab": {
          "base_uri": "https://localhost:8080/"
        },
        "id": "Dc6pUsfl7HYo",
        "outputId": "0c5ea9f4-d35f-4159-826c-25ac6d8ad5ba"
      },
      "source": [
        "print(x_test)"
      ],
      "execution_count": 73,
      "outputs": [
        {
          "output_type": "stream",
          "text": [
            "           日期  淨尖峰供電能力(MW)  尖峰負載(MW)  工業用電(百萬度)  民生用電(百萬度)  其他小水力  風力發電  太陽能發電\n",
            "114  20200424        31626     27678    339.469    230.174    7.0  28.0   30.5\n",
            "278  20201005        37047     32508    369.536    315.444   14.5  63.2  160.8\n",
            "237  20200825        40885     37073    380.910    350.284   21.4  36.6  202.4\n",
            "57   20200227        32621     28368    348.469    245.178   21.2  60.3    0.0\n",
            "72   20200313        32263     29165    353.107    237.444    7.3   6.8   43.4\n",
            "..        ...          ...       ...        ...        ...    ...   ...    ...\n",
            "366  20210101        28487     25720    311.468    212.061   14.9  30.6    0.0\n",
            "340  20201206        28297     25606    313.723    202.113   21.3  51.8    0.0\n",
            "132  20200512        35739     31973    352.004    254.635   11.2  10.9  103.8\n",
            "3    20200104        29219     25583    312.093    213.870   20.5  10.8    0.0\n",
            "18   20200119        28656     25322    302.209    207.097   21.8  19.5    0.0\n",
            "\n",
            "[80 rows x 8 columns]\n"
          ],
          "name": "stdout"
        }
      ]
    },
    {
      "cell_type": "code",
      "metadata": {
        "colab": {
          "base_uri": "https://localhost:8080/"
        },
        "id": "8-tSiZzAaaPc",
        "outputId": "18d97a0c-60ed-4303-f92f-bd5a8213ec01"
      },
      "source": [
        "print(xgb.score(x_test,y_test))\n",
        "result = xgb.predict(x_test)\n",
        "print(result)\n",
        "rms=np.sqrt(np.mean((result-y_test)**2))\n",
        "print(rms)"
      ],
      "execution_count": 80,
      "outputs": [
        {
          "output_type": "stream",
          "text": [
            "0.0\n",
            "[3483 5434 4384 3106 3346 3086 3086 3286 3675 3047 3497 3418 3489 3379\n",
            " 3157 4367 3187 3295 3295 4384 3104 3144 3199 3489 3810 3286 3106 3551\n",
            " 4384 3088 3187 3199 3551 3106 3219 3094 4384 4367 3199 3426 3489 3551\n",
            " 3106 3219 3675 3157 3020 3295 3551 3551 4384 4249 4086 3609 4249 3465\n",
            " 3975 3810 4367 3379 3086 3379 3102 4650 4174 3476 3094 3286 3823 3983\n",
            " 3286 4249 3132 3094 4384 2906 3199 4085 3286 3489]\n",
            "594.6388399692707\n"
          ],
          "name": "stdout"
        }
      ]
    },
    {
      "cell_type": "code",
      "metadata": {
        "colab": {
          "base_uri": "https://localhost:8080/"
        },
        "id": "6XU8LL8r6RlQ",
        "outputId": "554fa7bd-2c4b-493a-d95a-5e70aab3cde7"
      },
      "source": [
        "from sklearn.ensemble import RandomForestClassifier\n",
        "rfc = RandomForestClassifier()\n",
        "rfc.fit(x_train, y_train)\n",
        "print(rfc.score(x_test, y_test))\n",
        "result = rfc.predict(x_test)\n",
        "print(result)\n",
        "rms=np.sqrt(np.mean((result-y_test)**2))\n",
        "print(rms)"
      ],
      "execution_count": 82,
      "outputs": [
        {
          "output_type": "stream",
          "text": [
            "0.0\n",
            "[3508 4239 3869 4249 3609 2830 4108 3484 4163 3047 3412 3269 3887 3179\n",
            " 3201 4458 3219 3460 3088 5085 3386 4547 3147 3851 3144 2869 3002 3767\n",
            " 3869 3088 4125 4066 3084 3123 3179 3314 3724 3768 3199 3382 3551 3463\n",
            " 3219 3132 4932 3810 3749 3739 3190 4650 4811 3739 3297 3187 3160 3926\n",
            " 3862 3297 4387 4061 3304 3739 3102 3700 4547 3476 3314 3203 3398 3983\n",
            " 3384 3146 3097 3094 4651 3073 2830 4085 3160 3379]\n",
            "504.002070928285\n"
          ],
          "name": "stdout"
        }
      ]
    }
  ]
}